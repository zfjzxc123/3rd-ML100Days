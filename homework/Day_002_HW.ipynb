{
 "cells": [
  {
   "cell_type": "markdown",
   "metadata": {},
   "source": [
    "## [作業目標]\n",
    "了解機器學習適合應用的領域與範疇。"
   ]
  },
  {
   "cell_type": "markdown",
   "metadata": {},
   "source": [
    "## [作業重點]\n",
    "透過瞭解機器學習的運作方式，找出非常適用機器學習應用的領域及其原因"
   ]
  },
  {
   "cell_type": "markdown",
   "metadata": {},
   "source": [
    "## 作業\n",
    "請找出一個你認為機器學習可以發光發熱的領域並闡述原因? "
   ]
  },
  {
   "cell_type": "code",
   "execution_count": null,
   "metadata": {},
   "outputs": [],
   "source": [
    "在看完課程提供的參考資料後，領悟到機器學習能夠應用的領域非常廣\n",
    "其中我認為如果在圖片識別和影像識別的技術已經成熟的話，應用在「危機認知警示」的領域會有價值\n",
    "現今生活上有許多人都會發生意外，其中有許多意外發生時往往得不到協助，其中可能是旁邊無人的情況\n",
    "若能在發生意外時，透過監視器或鏡頭及時發現，並採取後續措施，將會對人類產生很大的幫助\n",
    "尤其現在已進入高齡化社會，之後的年長者會越來越多，要照顧的人也會越來越多\n",
    "所以在此領域若是發展成功，將會是未來對人類有很大幫助的應用。"
   ]
  }
 "metadata": {
  "kernelspec": {
   "display_name": "Python 3",
   "language": "python",
   "name": "python3"
  },
  "language_info": {
   "codemirror_mode": {
    "name": "ipython",
    "version": 3
   },
   "file_extension": ".py",
   "mimetype": "text/x-python",
   "name": "python",
   "nbconvert_exporter": "python",
   "pygments_lexer": "ipython3",
   "version": "3.7.1"
  }
 },
 "nbformat": 4,
 "nbformat_minor": 2
}
